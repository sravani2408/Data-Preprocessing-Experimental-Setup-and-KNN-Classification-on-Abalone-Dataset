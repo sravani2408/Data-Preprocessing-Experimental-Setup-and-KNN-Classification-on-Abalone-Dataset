{
 "cells": [
  {
   "cell_type": "markdown",
   "id": "cb6079d8",
   "metadata": {},
   "source": [
    "# 2 Classification with KNN"
   ]
  },
  {
   "cell_type": "code",
   "execution_count": 28,
   "id": "1224585c",
   "metadata": {},
   "outputs": [],
   "source": [
    "import numpy as np\n",
    "import pandas as pd\n",
    "import seaborn as sns\n",
    "import os\n",
    "import matplotlib.pyplot as plt\n",
    "from sklearn.model_selection import train_test_split\n",
    "from sklearn.preprocessing import StandardScaler\n",
    "from sklearn.neighbors import KNeighborsClassifier\n",
    "from sklearn.metrics import accuracy_score\n",
    "from sklearn.model_selection import cross_val_score\n",
    "from sklearn.metrics import confusion_matrix, accuracy_score,classification_report,f1_score,roc_auc_score\n",
    "import warnings\n",
    "warnings.filterwarnings('ignore')"
   ]
  },
  {
   "cell_type": "markdown",
   "id": "4af93e28",
   "metadata": {},
   "source": [
    "Loading the dataset and naming the columns"
   ]
  },
  {
   "cell_type": "code",
   "execution_count": 29,
   "id": "bca7d5dc-bd94-4338-a592-3bfa4e508619",
   "metadata": {},
   "outputs": [
    {
     "data": {
      "text/html": [
       "<div>\n",
       "<style scoped>\n",
       "    .dataframe tbody tr th:only-of-type {\n",
       "        vertical-align: middle;\n",
       "    }\n",
       "\n",
       "    .dataframe tbody tr th {\n",
       "        vertical-align: top;\n",
       "    }\n",
       "\n",
       "    .dataframe thead th {\n",
       "        text-align: right;\n",
       "    }\n",
       "</style>\n",
       "<table border=\"1\" class=\"dataframe\">\n",
       "  <thead>\n",
       "    <tr style=\"text-align: right;\">\n",
       "      <th></th>\n",
       "      <th>Sex</th>\n",
       "      <th>Length</th>\n",
       "      <th>Diameter</th>\n",
       "      <th>Height</th>\n",
       "      <th>Whole weight</th>\n",
       "      <th>Shucked weight</th>\n",
       "      <th>Viscera weight</th>\n",
       "      <th>Shell weight</th>\n",
       "      <th>Rings</th>\n",
       "    </tr>\n",
       "  </thead>\n",
       "  <tbody>\n",
       "    <tr>\n",
       "      <th>0</th>\n",
       "      <td>M</td>\n",
       "      <td>0.350</td>\n",
       "      <td>0.265</td>\n",
       "      <td>0.090</td>\n",
       "      <td>0.2255</td>\n",
       "      <td>0.0995</td>\n",
       "      <td>0.0485</td>\n",
       "      <td>0.0700</td>\n",
       "      <td>7</td>\n",
       "    </tr>\n",
       "    <tr>\n",
       "      <th>1</th>\n",
       "      <td>F</td>\n",
       "      <td>0.530</td>\n",
       "      <td>0.420</td>\n",
       "      <td>0.135</td>\n",
       "      <td>0.6770</td>\n",
       "      <td>0.2565</td>\n",
       "      <td>0.1415</td>\n",
       "      <td>0.2100</td>\n",
       "      <td>9</td>\n",
       "    </tr>\n",
       "    <tr>\n",
       "      <th>2</th>\n",
       "      <td>M</td>\n",
       "      <td>0.440</td>\n",
       "      <td>0.365</td>\n",
       "      <td>0.125</td>\n",
       "      <td>0.5160</td>\n",
       "      <td>0.2155</td>\n",
       "      <td>0.1140</td>\n",
       "      <td>0.1550</td>\n",
       "      <td>10</td>\n",
       "    </tr>\n",
       "    <tr>\n",
       "      <th>3</th>\n",
       "      <td>I</td>\n",
       "      <td>0.330</td>\n",
       "      <td>0.255</td>\n",
       "      <td>0.080</td>\n",
       "      <td>0.2050</td>\n",
       "      <td>0.0895</td>\n",
       "      <td>0.0395</td>\n",
       "      <td>0.0550</td>\n",
       "      <td>7</td>\n",
       "    </tr>\n",
       "    <tr>\n",
       "      <th>4</th>\n",
       "      <td>I</td>\n",
       "      <td>0.425</td>\n",
       "      <td>0.300</td>\n",
       "      <td>0.095</td>\n",
       "      <td>0.3515</td>\n",
       "      <td>0.1410</td>\n",
       "      <td>0.0775</td>\n",
       "      <td>0.1200</td>\n",
       "      <td>8</td>\n",
       "    </tr>\n",
       "    <tr>\n",
       "      <th>...</th>\n",
       "      <td>...</td>\n",
       "      <td>...</td>\n",
       "      <td>...</td>\n",
       "      <td>...</td>\n",
       "      <td>...</td>\n",
       "      <td>...</td>\n",
       "      <td>...</td>\n",
       "      <td>...</td>\n",
       "      <td>...</td>\n",
       "    </tr>\n",
       "    <tr>\n",
       "      <th>4171</th>\n",
       "      <td>F</td>\n",
       "      <td>0.565</td>\n",
       "      <td>0.450</td>\n",
       "      <td>0.165</td>\n",
       "      <td>0.8870</td>\n",
       "      <td>0.3700</td>\n",
       "      <td>0.2390</td>\n",
       "      <td>0.2490</td>\n",
       "      <td>11</td>\n",
       "    </tr>\n",
       "    <tr>\n",
       "      <th>4172</th>\n",
       "      <td>M</td>\n",
       "      <td>0.590</td>\n",
       "      <td>0.440</td>\n",
       "      <td>0.135</td>\n",
       "      <td>0.9660</td>\n",
       "      <td>0.4390</td>\n",
       "      <td>0.2145</td>\n",
       "      <td>0.2605</td>\n",
       "      <td>10</td>\n",
       "    </tr>\n",
       "    <tr>\n",
       "      <th>4173</th>\n",
       "      <td>M</td>\n",
       "      <td>0.600</td>\n",
       "      <td>0.475</td>\n",
       "      <td>0.205</td>\n",
       "      <td>1.1760</td>\n",
       "      <td>0.5255</td>\n",
       "      <td>0.2875</td>\n",
       "      <td>0.3080</td>\n",
       "      <td>9</td>\n",
       "    </tr>\n",
       "    <tr>\n",
       "      <th>4174</th>\n",
       "      <td>F</td>\n",
       "      <td>0.625</td>\n",
       "      <td>0.485</td>\n",
       "      <td>0.150</td>\n",
       "      <td>1.0945</td>\n",
       "      <td>0.5310</td>\n",
       "      <td>0.2610</td>\n",
       "      <td>0.2960</td>\n",
       "      <td>10</td>\n",
       "    </tr>\n",
       "    <tr>\n",
       "      <th>4175</th>\n",
       "      <td>M</td>\n",
       "      <td>0.710</td>\n",
       "      <td>0.555</td>\n",
       "      <td>0.195</td>\n",
       "      <td>1.9485</td>\n",
       "      <td>0.9455</td>\n",
       "      <td>0.3765</td>\n",
       "      <td>0.4950</td>\n",
       "      <td>12</td>\n",
       "    </tr>\n",
       "  </tbody>\n",
       "</table>\n",
       "<p>4176 rows × 9 columns</p>\n",
       "</div>"
      ],
      "text/plain": [
       "     Sex  Length  Diameter  Height  Whole weight  Shucked weight  \\\n",
       "0      M   0.350     0.265   0.090        0.2255          0.0995   \n",
       "1      F   0.530     0.420   0.135        0.6770          0.2565   \n",
       "2      M   0.440     0.365   0.125        0.5160          0.2155   \n",
       "3      I   0.330     0.255   0.080        0.2050          0.0895   \n",
       "4      I   0.425     0.300   0.095        0.3515          0.1410   \n",
       "...   ..     ...       ...     ...           ...             ...   \n",
       "4171   F   0.565     0.450   0.165        0.8870          0.3700   \n",
       "4172   M   0.590     0.440   0.135        0.9660          0.4390   \n",
       "4173   M   0.600     0.475   0.205        1.1760          0.5255   \n",
       "4174   F   0.625     0.485   0.150        1.0945          0.5310   \n",
       "4175   M   0.710     0.555   0.195        1.9485          0.9455   \n",
       "\n",
       "      Viscera weight  Shell weight  Rings  \n",
       "0             0.0485        0.0700      7  \n",
       "1             0.1415        0.2100      9  \n",
       "2             0.1140        0.1550     10  \n",
       "3             0.0395        0.0550      7  \n",
       "4             0.0775        0.1200      8  \n",
       "...              ...           ...    ...  \n",
       "4171          0.2390        0.2490     11  \n",
       "4172          0.2145        0.2605     10  \n",
       "4173          0.2875        0.3080      9  \n",
       "4174          0.2610        0.2960     10  \n",
       "4175          0.3765        0.4950     12  \n",
       "\n",
       "[4176 rows x 9 columns]"
      ]
     },
     "execution_count": 29,
     "metadata": {},
     "output_type": "execute_result"
    }
   ],
   "source": [
    "originalData = pd.read_csv(\"abalone.csv\")\n",
    "originalData.columns = ['Sex', 'Length', 'Diameter', 'Height', 'Whole weight', 'Shucked weight', 'Viscera weight', 'Shell weight',  'Rings']\n",
    "pd.set_option(\"display.max_rows\", 10)\n",
    "originalData"
   ]
  },
  {
   "cell_type": "markdown",
   "id": "079e5668",
   "metadata": {},
   "source": [
    "Describing the charectaristic of the features of the Dataset"
   ]
  },
  {
   "cell_type": "code",
   "execution_count": 30,
   "id": "ff2cf76d-8ee0-4418-8a6a-8a990727ea49",
   "metadata": {},
   "outputs": [
    {
     "data": {
      "text/html": [
       "<div>\n",
       "<style scoped>\n",
       "    .dataframe tbody tr th:only-of-type {\n",
       "        vertical-align: middle;\n",
       "    }\n",
       "\n",
       "    .dataframe tbody tr th {\n",
       "        vertical-align: top;\n",
       "    }\n",
       "\n",
       "    .dataframe thead th {\n",
       "        text-align: right;\n",
       "    }\n",
       "</style>\n",
       "<table border=\"1\" class=\"dataframe\">\n",
       "  <thead>\n",
       "    <tr style=\"text-align: right;\">\n",
       "      <th></th>\n",
       "      <th>Length</th>\n",
       "      <th>Diameter</th>\n",
       "      <th>Height</th>\n",
       "      <th>Whole weight</th>\n",
       "      <th>Shucked weight</th>\n",
       "      <th>Viscera weight</th>\n",
       "      <th>Shell weight</th>\n",
       "      <th>Rings</th>\n",
       "    </tr>\n",
       "  </thead>\n",
       "  <tbody>\n",
       "    <tr>\n",
       "      <th>count</th>\n",
       "      <td>4176.000000</td>\n",
       "      <td>4176.000000</td>\n",
       "      <td>4176.000000</td>\n",
       "      <td>4176.000000</td>\n",
       "      <td>4176.00000</td>\n",
       "      <td>4176.000000</td>\n",
       "      <td>4176.000000</td>\n",
       "      <td>4176.000000</td>\n",
       "    </tr>\n",
       "    <tr>\n",
       "      <th>mean</th>\n",
       "      <td>0.524009</td>\n",
       "      <td>0.407892</td>\n",
       "      <td>0.139527</td>\n",
       "      <td>0.828818</td>\n",
       "      <td>0.35940</td>\n",
       "      <td>0.180613</td>\n",
       "      <td>0.238852</td>\n",
       "      <td>9.932471</td>\n",
       "    </tr>\n",
       "    <tr>\n",
       "      <th>std</th>\n",
       "      <td>0.120103</td>\n",
       "      <td>0.099250</td>\n",
       "      <td>0.041826</td>\n",
       "      <td>0.490424</td>\n",
       "      <td>0.22198</td>\n",
       "      <td>0.109620</td>\n",
       "      <td>0.139213</td>\n",
       "      <td>3.223601</td>\n",
       "    </tr>\n",
       "    <tr>\n",
       "      <th>min</th>\n",
       "      <td>0.075000</td>\n",
       "      <td>0.055000</td>\n",
       "      <td>0.000000</td>\n",
       "      <td>0.002000</td>\n",
       "      <td>0.00100</td>\n",
       "      <td>0.000500</td>\n",
       "      <td>0.001500</td>\n",
       "      <td>1.000000</td>\n",
       "    </tr>\n",
       "    <tr>\n",
       "      <th>25%</th>\n",
       "      <td>0.450000</td>\n",
       "      <td>0.350000</td>\n",
       "      <td>0.115000</td>\n",
       "      <td>0.441500</td>\n",
       "      <td>0.18600</td>\n",
       "      <td>0.093375</td>\n",
       "      <td>0.130000</td>\n",
       "      <td>8.000000</td>\n",
       "    </tr>\n",
       "    <tr>\n",
       "      <th>50%</th>\n",
       "      <td>0.545000</td>\n",
       "      <td>0.425000</td>\n",
       "      <td>0.140000</td>\n",
       "      <td>0.799750</td>\n",
       "      <td>0.33600</td>\n",
       "      <td>0.171000</td>\n",
       "      <td>0.234000</td>\n",
       "      <td>9.000000</td>\n",
       "    </tr>\n",
       "    <tr>\n",
       "      <th>75%</th>\n",
       "      <td>0.615000</td>\n",
       "      <td>0.480000</td>\n",
       "      <td>0.165000</td>\n",
       "      <td>1.153250</td>\n",
       "      <td>0.50200</td>\n",
       "      <td>0.253000</td>\n",
       "      <td>0.329000</td>\n",
       "      <td>11.000000</td>\n",
       "    </tr>\n",
       "    <tr>\n",
       "      <th>max</th>\n",
       "      <td>0.815000</td>\n",
       "      <td>0.650000</td>\n",
       "      <td>1.130000</td>\n",
       "      <td>2.825500</td>\n",
       "      <td>1.48800</td>\n",
       "      <td>0.760000</td>\n",
       "      <td>1.005000</td>\n",
       "      <td>29.000000</td>\n",
       "    </tr>\n",
       "  </tbody>\n",
       "</table>\n",
       "</div>"
      ],
      "text/plain": [
       "            Length     Diameter       Height  Whole weight  Shucked weight  \\\n",
       "count  4176.000000  4176.000000  4176.000000   4176.000000      4176.00000   \n",
       "mean      0.524009     0.407892     0.139527      0.828818         0.35940   \n",
       "std       0.120103     0.099250     0.041826      0.490424         0.22198   \n",
       "min       0.075000     0.055000     0.000000      0.002000         0.00100   \n",
       "25%       0.450000     0.350000     0.115000      0.441500         0.18600   \n",
       "50%       0.545000     0.425000     0.140000      0.799750         0.33600   \n",
       "75%       0.615000     0.480000     0.165000      1.153250         0.50200   \n",
       "max       0.815000     0.650000     1.130000      2.825500         1.48800   \n",
       "\n",
       "       Viscera weight  Shell weight        Rings  \n",
       "count     4176.000000   4176.000000  4176.000000  \n",
       "mean         0.180613      0.238852     9.932471  \n",
       "std          0.109620      0.139213     3.223601  \n",
       "min          0.000500      0.001500     1.000000  \n",
       "25%          0.093375      0.130000     8.000000  \n",
       "50%          0.171000      0.234000     9.000000  \n",
       "75%          0.253000      0.329000    11.000000  \n",
       "max          0.760000      1.005000    29.000000  "
      ]
     },
     "execution_count": 30,
     "metadata": {},
     "output_type": "execute_result"
    }
   ],
   "source": [
    "originalData.describe()"
   ]
  },
  {
   "cell_type": "markdown",
   "id": "387cf2a2",
   "metadata": {},
   "source": [
    "Converting the Nomial data type (SEX) feature to numerical type"
   ]
  },
  {
   "cell_type": "code",
   "execution_count": 31,
   "id": "ed82fcea",
   "metadata": {},
   "outputs": [
    {
     "data": {
      "text/html": [
       "<div>\n",
       "<style scoped>\n",
       "    .dataframe tbody tr th:only-of-type {\n",
       "        vertical-align: middle;\n",
       "    }\n",
       "\n",
       "    .dataframe tbody tr th {\n",
       "        vertical-align: top;\n",
       "    }\n",
       "\n",
       "    .dataframe thead th {\n",
       "        text-align: right;\n",
       "    }\n",
       "</style>\n",
       "<table border=\"1\" class=\"dataframe\">\n",
       "  <thead>\n",
       "    <tr style=\"text-align: right;\">\n",
       "      <th></th>\n",
       "      <th>F</th>\n",
       "      <th>I</th>\n",
       "      <th>M</th>\n",
       "      <th>Length</th>\n",
       "      <th>Diameter</th>\n",
       "      <th>Height</th>\n",
       "      <th>Whole weight</th>\n",
       "      <th>Shucked weight</th>\n",
       "      <th>Viscera weight</th>\n",
       "      <th>Shell weight</th>\n",
       "      <th>Rings</th>\n",
       "    </tr>\n",
       "  </thead>\n",
       "  <tbody>\n",
       "    <tr>\n",
       "      <th>0</th>\n",
       "      <td>0</td>\n",
       "      <td>0</td>\n",
       "      <td>1</td>\n",
       "      <td>0.350</td>\n",
       "      <td>0.265</td>\n",
       "      <td>0.090</td>\n",
       "      <td>0.2255</td>\n",
       "      <td>0.0995</td>\n",
       "      <td>0.0485</td>\n",
       "      <td>0.0700</td>\n",
       "      <td>7</td>\n",
       "    </tr>\n",
       "    <tr>\n",
       "      <th>1</th>\n",
       "      <td>1</td>\n",
       "      <td>0</td>\n",
       "      <td>0</td>\n",
       "      <td>0.530</td>\n",
       "      <td>0.420</td>\n",
       "      <td>0.135</td>\n",
       "      <td>0.6770</td>\n",
       "      <td>0.2565</td>\n",
       "      <td>0.1415</td>\n",
       "      <td>0.2100</td>\n",
       "      <td>9</td>\n",
       "    </tr>\n",
       "    <tr>\n",
       "      <th>2</th>\n",
       "      <td>0</td>\n",
       "      <td>0</td>\n",
       "      <td>1</td>\n",
       "      <td>0.440</td>\n",
       "      <td>0.365</td>\n",
       "      <td>0.125</td>\n",
       "      <td>0.5160</td>\n",
       "      <td>0.2155</td>\n",
       "      <td>0.1140</td>\n",
       "      <td>0.1550</td>\n",
       "      <td>10</td>\n",
       "    </tr>\n",
       "    <tr>\n",
       "      <th>3</th>\n",
       "      <td>0</td>\n",
       "      <td>1</td>\n",
       "      <td>0</td>\n",
       "      <td>0.330</td>\n",
       "      <td>0.255</td>\n",
       "      <td>0.080</td>\n",
       "      <td>0.2050</td>\n",
       "      <td>0.0895</td>\n",
       "      <td>0.0395</td>\n",
       "      <td>0.0550</td>\n",
       "      <td>7</td>\n",
       "    </tr>\n",
       "    <tr>\n",
       "      <th>4</th>\n",
       "      <td>0</td>\n",
       "      <td>1</td>\n",
       "      <td>0</td>\n",
       "      <td>0.425</td>\n",
       "      <td>0.300</td>\n",
       "      <td>0.095</td>\n",
       "      <td>0.3515</td>\n",
       "      <td>0.1410</td>\n",
       "      <td>0.0775</td>\n",
       "      <td>0.1200</td>\n",
       "      <td>8</td>\n",
       "    </tr>\n",
       "    <tr>\n",
       "      <th>...</th>\n",
       "      <td>...</td>\n",
       "      <td>...</td>\n",
       "      <td>...</td>\n",
       "      <td>...</td>\n",
       "      <td>...</td>\n",
       "      <td>...</td>\n",
       "      <td>...</td>\n",
       "      <td>...</td>\n",
       "      <td>...</td>\n",
       "      <td>...</td>\n",
       "      <td>...</td>\n",
       "    </tr>\n",
       "    <tr>\n",
       "      <th>4171</th>\n",
       "      <td>1</td>\n",
       "      <td>0</td>\n",
       "      <td>0</td>\n",
       "      <td>0.565</td>\n",
       "      <td>0.450</td>\n",
       "      <td>0.165</td>\n",
       "      <td>0.8870</td>\n",
       "      <td>0.3700</td>\n",
       "      <td>0.2390</td>\n",
       "      <td>0.2490</td>\n",
       "      <td>11</td>\n",
       "    </tr>\n",
       "    <tr>\n",
       "      <th>4172</th>\n",
       "      <td>0</td>\n",
       "      <td>0</td>\n",
       "      <td>1</td>\n",
       "      <td>0.590</td>\n",
       "      <td>0.440</td>\n",
       "      <td>0.135</td>\n",
       "      <td>0.9660</td>\n",
       "      <td>0.4390</td>\n",
       "      <td>0.2145</td>\n",
       "      <td>0.2605</td>\n",
       "      <td>10</td>\n",
       "    </tr>\n",
       "    <tr>\n",
       "      <th>4173</th>\n",
       "      <td>0</td>\n",
       "      <td>0</td>\n",
       "      <td>1</td>\n",
       "      <td>0.600</td>\n",
       "      <td>0.475</td>\n",
       "      <td>0.205</td>\n",
       "      <td>1.1760</td>\n",
       "      <td>0.5255</td>\n",
       "      <td>0.2875</td>\n",
       "      <td>0.3080</td>\n",
       "      <td>9</td>\n",
       "    </tr>\n",
       "    <tr>\n",
       "      <th>4174</th>\n",
       "      <td>1</td>\n",
       "      <td>0</td>\n",
       "      <td>0</td>\n",
       "      <td>0.625</td>\n",
       "      <td>0.485</td>\n",
       "      <td>0.150</td>\n",
       "      <td>1.0945</td>\n",
       "      <td>0.5310</td>\n",
       "      <td>0.2610</td>\n",
       "      <td>0.2960</td>\n",
       "      <td>10</td>\n",
       "    </tr>\n",
       "    <tr>\n",
       "      <th>4175</th>\n",
       "      <td>0</td>\n",
       "      <td>0</td>\n",
       "      <td>1</td>\n",
       "      <td>0.710</td>\n",
       "      <td>0.555</td>\n",
       "      <td>0.195</td>\n",
       "      <td>1.9485</td>\n",
       "      <td>0.9455</td>\n",
       "      <td>0.3765</td>\n",
       "      <td>0.4950</td>\n",
       "      <td>12</td>\n",
       "    </tr>\n",
       "  </tbody>\n",
       "</table>\n",
       "<p>4176 rows × 11 columns</p>\n",
       "</div>"
      ],
      "text/plain": [
       "      F  I  M  Length  Diameter  Height  Whole weight  Shucked weight  \\\n",
       "0     0  0  1   0.350     0.265   0.090        0.2255          0.0995   \n",
       "1     1  0  0   0.530     0.420   0.135        0.6770          0.2565   \n",
       "2     0  0  1   0.440     0.365   0.125        0.5160          0.2155   \n",
       "3     0  1  0   0.330     0.255   0.080        0.2050          0.0895   \n",
       "4     0  1  0   0.425     0.300   0.095        0.3515          0.1410   \n",
       "...  .. .. ..     ...       ...     ...           ...             ...   \n",
       "4171  1  0  0   0.565     0.450   0.165        0.8870          0.3700   \n",
       "4172  0  0  1   0.590     0.440   0.135        0.9660          0.4390   \n",
       "4173  0  0  1   0.600     0.475   0.205        1.1760          0.5255   \n",
       "4174  1  0  0   0.625     0.485   0.150        1.0945          0.5310   \n",
       "4175  0  0  1   0.710     0.555   0.195        1.9485          0.9455   \n",
       "\n",
       "      Viscera weight  Shell weight  Rings  \n",
       "0             0.0485        0.0700      7  \n",
       "1             0.1415        0.2100      9  \n",
       "2             0.1140        0.1550     10  \n",
       "3             0.0395        0.0550      7  \n",
       "4             0.0775        0.1200      8  \n",
       "...              ...           ...    ...  \n",
       "4171          0.2390        0.2490     11  \n",
       "4172          0.2145        0.2605     10  \n",
       "4173          0.2875        0.3080      9  \n",
       "4174          0.2610        0.2960     10  \n",
       "4175          0.3765        0.4950     12  \n",
       "\n",
       "[4176 rows x 11 columns]"
      ]
     },
     "execution_count": 31,
     "metadata": {},
     "output_type": "execute_result"
    }
   ],
   "source": [
    "dummie = pd.get_dummies(originalData.Sex)\n",
    "nonOrdinalData = pd.concat([originalData,dummie],axis = 'columns')\n",
    "nonOrdinalData.drop(\"Sex\", axis= 1, inplace = True)\n",
    "pd.set_option(\"display.max_columns\",None)\n",
    "nonOrdinalData = nonOrdinalData[['F','I','M','Length', 'Diameter', 'Height', 'Whole weight', 'Shucked weight', 'Viscera weight', 'Shell weight',  'Rings']]\n",
    "nonOrdinalData"
   ]
  },
  {
   "cell_type": "markdown",
   "id": "d82a2f93",
   "metadata": {},
   "source": [
    "Splitting into X and Y for features and target separation"
   ]
  },
  {
   "cell_type": "code",
   "execution_count": 32,
   "id": "caa47655-01e1-4c51-8fdd-65acde1f63c1",
   "metadata": {},
   "outputs": [],
   "source": [
    "x = nonOrdinalData.iloc[:, :-1].values\n",
    "y = nonOrdinalData.iloc[:,-1].values"
   ]
  },
  {
   "cell_type": "code",
   "execution_count": 33,
   "id": "05ddb583",
   "metadata": {},
   "outputs": [
    {
     "data": {
      "text/plain": [
       "array([[0.    , 0.    , 1.    , ..., 0.0995, 0.0485, 0.07  ],\n",
       "       [1.    , 0.    , 0.    , ..., 0.2565, 0.1415, 0.21  ],\n",
       "       [0.    , 0.    , 1.    , ..., 0.2155, 0.114 , 0.155 ],\n",
       "       ...,\n",
       "       [0.    , 0.    , 1.    , ..., 0.5255, 0.2875, 0.308 ],\n",
       "       [1.    , 0.    , 0.    , ..., 0.531 , 0.261 , 0.296 ],\n",
       "       [0.    , 0.    , 1.    , ..., 0.9455, 0.3765, 0.495 ]])"
      ]
     },
     "execution_count": 33,
     "metadata": {},
     "output_type": "execute_result"
    }
   ],
   "source": [
    "x"
   ]
  },
  {
   "cell_type": "code",
   "execution_count": 34,
   "id": "93308fdd-c60a-476c-af62-d270b08db18e",
   "metadata": {},
   "outputs": [
    {
     "data": {
      "text/plain": [
       "array([ 7,  9, 10, ...,  9, 10, 12], dtype=int64)"
      ]
     },
     "execution_count": 34,
     "metadata": {},
     "output_type": "execute_result"
    }
   ],
   "source": [
    "y"
   ]
  },
  {
   "cell_type": "markdown",
   "id": "c3df1b57",
   "metadata": {},
   "source": [
    "Splitting into training set(80%) and testing set(20%)"
   ]
  },
  {
   "cell_type": "code",
   "execution_count": 35,
   "id": "6dd8b827-e6f0-4e13-8cb6-4179146f987e",
   "metadata": {},
   "outputs": [],
   "source": [
    "x_train, x_test, y_train, y_test = train_test_split(x,y,test_size=0.2, random_state=122)"
   ]
  },
  {
   "cell_type": "markdown",
   "id": "985b19a7",
   "metadata": {},
   "source": [
    "Feature Scaling as per data cleaning step\n",
    "\n",
    "\n",
    "Standardizing the data featues"
   ]
  },
  {
   "cell_type": "code",
   "execution_count": 36,
   "id": "63534028-836b-4f6b-8e90-fdddd4dc3e67",
   "metadata": {},
   "outputs": [],
   "source": [
    "\n",
    "sc = StandardScaler()\n",
    "x_train = sc.fit_transform(x_train)\n",
    "x_test = sc.transform(x_test)\n",
    "\n",
    "x_train = pd.DataFrame(x_train)\n",
    "x_test = pd.DataFrame(x_test)\n",
    "\n",
    "# x_train = (x_train - x_train.mean())/x_train.std()\n",
    "# x_test = (x_test - x_test.mean())/x_test.std()\n",
    "# x_train"
   ]
  },
  {
   "cell_type": "code",
   "execution_count": 37,
   "id": "1acde0bd-3e6e-4ab0-a694-108cbe9c354f",
   "metadata": {},
   "outputs": [
    {
     "data": {
      "text/html": [
       "<div>\n",
       "<style scoped>\n",
       "    .dataframe tbody tr th:only-of-type {\n",
       "        vertical-align: middle;\n",
       "    }\n",
       "\n",
       "    .dataframe tbody tr th {\n",
       "        vertical-align: top;\n",
       "    }\n",
       "\n",
       "    .dataframe thead th {\n",
       "        text-align: right;\n",
       "    }\n",
       "</style>\n",
       "<table border=\"1\" class=\"dataframe\">\n",
       "  <thead>\n",
       "    <tr style=\"text-align: right;\">\n",
       "      <th></th>\n",
       "      <th>0</th>\n",
       "      <th>1</th>\n",
       "      <th>2</th>\n",
       "      <th>3</th>\n",
       "      <th>4</th>\n",
       "      <th>5</th>\n",
       "      <th>6</th>\n",
       "      <th>7</th>\n",
       "      <th>8</th>\n",
       "      <th>9</th>\n",
       "    </tr>\n",
       "  </thead>\n",
       "  <tbody>\n",
       "    <tr>\n",
       "      <th>0</th>\n",
       "      <td>1.500730</td>\n",
       "      <td>-0.687977</td>\n",
       "      <td>-0.768424</td>\n",
       "      <td>1.177970</td>\n",
       "      <td>0.933822</td>\n",
       "      <td>0.834249</td>\n",
       "      <td>1.876975</td>\n",
       "      <td>1.073658</td>\n",
       "      <td>1.127693</td>\n",
       "      <td>3.503890</td>\n",
       "    </tr>\n",
       "    <tr>\n",
       "      <th>1</th>\n",
       "      <td>-0.666342</td>\n",
       "      <td>-0.687977</td>\n",
       "      <td>1.301364</td>\n",
       "      <td>0.468155</td>\n",
       "      <td>0.477952</td>\n",
       "      <td>-0.106742</td>\n",
       "      <td>-0.064640</td>\n",
       "      <td>0.211883</td>\n",
       "      <td>-0.119407</td>\n",
       "      <td>-0.249342</td>\n",
       "    </tr>\n",
       "    <tr>\n",
       "      <th>2</th>\n",
       "      <td>-0.666342</td>\n",
       "      <td>1.453536</td>\n",
       "      <td>-0.768424</td>\n",
       "      <td>-0.325167</td>\n",
       "      <td>-0.535095</td>\n",
       "      <td>-0.459613</td>\n",
       "      <td>-0.653382</td>\n",
       "      <td>-0.672570</td>\n",
       "      <td>-0.533573</td>\n",
       "      <td>-0.746411</td>\n",
       "    </tr>\n",
       "    <tr>\n",
       "      <th>3</th>\n",
       "      <td>-0.666342</td>\n",
       "      <td>-0.687977</td>\n",
       "      <td>1.301364</td>\n",
       "      <td>1.303232</td>\n",
       "      <td>1.339041</td>\n",
       "      <td>1.657615</td>\n",
       "      <td>1.972364</td>\n",
       "      <td>2.159948</td>\n",
       "      <td>2.098682</td>\n",
       "      <td>1.429166</td>\n",
       "    </tr>\n",
       "    <tr>\n",
       "      <th>4</th>\n",
       "      <td>-0.666342</td>\n",
       "      <td>-0.687977</td>\n",
       "      <td>1.301364</td>\n",
       "      <td>0.635171</td>\n",
       "      <td>0.477952</td>\n",
       "      <td>0.363753</td>\n",
       "      <td>0.242038</td>\n",
       "      <td>0.354756</td>\n",
       "      <td>0.262546</td>\n",
       "      <td>0.082037</td>\n",
       "    </tr>\n",
       "    <tr>\n",
       "      <th>...</th>\n",
       "      <td>...</td>\n",
       "      <td>...</td>\n",
       "      <td>...</td>\n",
       "      <td>...</td>\n",
       "      <td>...</td>\n",
       "      <td>...</td>\n",
       "      <td>...</td>\n",
       "      <td>...</td>\n",
       "      <td>...</td>\n",
       "      <td>...</td>\n",
       "    </tr>\n",
       "    <tr>\n",
       "      <th>831</th>\n",
       "      <td>-0.666342</td>\n",
       "      <td>1.453536</td>\n",
       "      <td>-0.768424</td>\n",
       "      <td>-0.074644</td>\n",
       "      <td>-0.585747</td>\n",
       "      <td>-0.812485</td>\n",
       "      <td>-0.723128</td>\n",
       "      <td>-0.658963</td>\n",
       "      <td>-0.524369</td>\n",
       "      <td>-0.800441</td>\n",
       "    </tr>\n",
       "    <tr>\n",
       "      <th>832</th>\n",
       "      <td>1.500730</td>\n",
       "      <td>-0.687977</td>\n",
       "      <td>-0.768424</td>\n",
       "      <td>-0.408675</td>\n",
       "      <td>-0.281833</td>\n",
       "      <td>0.010882</td>\n",
       "      <td>-0.283111</td>\n",
       "      <td>-0.189523</td>\n",
       "      <td>-0.446138</td>\n",
       "      <td>-0.310575</td>\n",
       "    </tr>\n",
       "    <tr>\n",
       "      <th>833</th>\n",
       "      <td>-0.666342</td>\n",
       "      <td>-0.687977</td>\n",
       "      <td>1.301364</td>\n",
       "      <td>0.969201</td>\n",
       "      <td>1.035127</td>\n",
       "      <td>0.716625</td>\n",
       "      <td>1.116945</td>\n",
       "      <td>0.946660</td>\n",
       "      <td>1.169110</td>\n",
       "      <td>1.227457</td>\n",
       "    </tr>\n",
       "    <tr>\n",
       "      <th>834</th>\n",
       "      <td>1.500730</td>\n",
       "      <td>-0.687977</td>\n",
       "      <td>-0.768424</td>\n",
       "      <td>0.760432</td>\n",
       "      <td>1.136431</td>\n",
       "      <td>0.246130</td>\n",
       "      <td>1.059507</td>\n",
       "      <td>1.227870</td>\n",
       "      <td>0.741138</td>\n",
       "      <td>0.766408</td>\n",
       "    </tr>\n",
       "    <tr>\n",
       "      <th>835</th>\n",
       "      <td>1.500730</td>\n",
       "      <td>-0.687977</td>\n",
       "      <td>-0.768424</td>\n",
       "      <td>0.384648</td>\n",
       "      <td>0.427299</td>\n",
       "      <td>0.246130</td>\n",
       "      <td>0.282040</td>\n",
       "      <td>0.783376</td>\n",
       "      <td>0.083074</td>\n",
       "      <td>-0.213323</td>\n",
       "    </tr>\n",
       "  </tbody>\n",
       "</table>\n",
       "<p>836 rows × 10 columns</p>\n",
       "</div>"
      ],
      "text/plain": [
       "            0         1         2         3         4         5         6  \\\n",
       "0    1.500730 -0.687977 -0.768424  1.177970  0.933822  0.834249  1.876975   \n",
       "1   -0.666342 -0.687977  1.301364  0.468155  0.477952 -0.106742 -0.064640   \n",
       "2   -0.666342  1.453536 -0.768424 -0.325167 -0.535095 -0.459613 -0.653382   \n",
       "3   -0.666342 -0.687977  1.301364  1.303232  1.339041  1.657615  1.972364   \n",
       "4   -0.666342 -0.687977  1.301364  0.635171  0.477952  0.363753  0.242038   \n",
       "..        ...       ...       ...       ...       ...       ...       ...   \n",
       "831 -0.666342  1.453536 -0.768424 -0.074644 -0.585747 -0.812485 -0.723128   \n",
       "832  1.500730 -0.687977 -0.768424 -0.408675 -0.281833  0.010882 -0.283111   \n",
       "833 -0.666342 -0.687977  1.301364  0.969201  1.035127  0.716625  1.116945   \n",
       "834  1.500730 -0.687977 -0.768424  0.760432  1.136431  0.246130  1.059507   \n",
       "835  1.500730 -0.687977 -0.768424  0.384648  0.427299  0.246130  0.282040   \n",
       "\n",
       "            7         8         9  \n",
       "0    1.073658  1.127693  3.503890  \n",
       "1    0.211883 -0.119407 -0.249342  \n",
       "2   -0.672570 -0.533573 -0.746411  \n",
       "3    2.159948  2.098682  1.429166  \n",
       "4    0.354756  0.262546  0.082037  \n",
       "..        ...       ...       ...  \n",
       "831 -0.658963 -0.524369 -0.800441  \n",
       "832 -0.189523 -0.446138 -0.310575  \n",
       "833  0.946660  1.169110  1.227457  \n",
       "834  1.227870  0.741138  0.766408  \n",
       "835  0.783376  0.083074 -0.213323  \n",
       "\n",
       "[836 rows x 10 columns]"
      ]
     },
     "execution_count": 37,
     "metadata": {},
     "output_type": "execute_result"
    }
   ],
   "source": [
    "x_test"
   ]
  },
  {
   "cell_type": "markdown",
   "id": "abe516c8",
   "metadata": {},
   "source": [
    "knn with Default parameters"
   ]
  },
  {
   "cell_type": "code",
   "execution_count": 38,
   "id": "e39a8dc1-f392-4d85-bea4-e0db890ec24f",
   "metadata": {},
   "outputs": [
    {
     "name": "stdout",
     "output_type": "stream",
     "text": [
      "Accuracy for default parameters = 23.56459330143541 %\n"
     ]
    }
   ],
   "source": [
    "knn = KNeighborsClassifier()\n",
    "knn.fit(x_train, y_train)\n",
    "y_pred = knn.predict(x_test)\n",
    "final = accuracy_score(y_test, y_pred)*100\n",
    "print(\"Accuracy for default parameters =\", final,\"%\")"
   ]
  },
  {
   "cell_type": "markdown",
   "id": "87cfd1ac",
   "metadata": {},
   "source": [
    "KNN across all possible k values under 200"
   ]
  },
  {
   "cell_type": "code",
   "execution_count": 39,
   "id": "76de4244-369a-4cb2-b5fb-19c397e0bf81",
   "metadata": {},
   "outputs": [],
   "source": [
    "accuracy_values = []\n",
    "k_values = [i for i in range(1,200)]\n",
    "for k in k_values:\n",
    "    knn = KNeighborsClassifier(n_neighbors = k)\n",
    "    knn.fit(x_train,y_train)\n",
    "    temp = knn.predict(x_test)\n",
    "    accuracy_values.append(accuracy_score(y_test, temp)*100)"
   ]
  },
  {
   "cell_type": "markdown",
   "id": "aa85a472",
   "metadata": {},
   "source": [
    "Plotting accuracy vs k curve"
   ]
  },
  {
   "cell_type": "code",
   "execution_count": 40,
   "id": "2fab5ae4",
   "metadata": {},
   "outputs": [
    {
     "data": {
      "image/png": "[encoded data removed]",
      "text/plain": [
       "<Figure size 640x480 with 1 Axes>"
      ]
     },
     "metadata": {},
     "output_type": "display_data"
    }
   ],
   "source": [
    "plt.plot(k_values, accuracy_values)\n",
    "plt.xlabel(\"K values\")\n",
    "plt.ylabel(\"Accuracy percentage\")\n",
    "plt.title(\"Accuracy vs K values\")\n",
    "plt.show()"
   ]
  },
  {
   "cell_type": "code",
   "execution_count": 41,
   "id": "9786de17-4fa0-4549-b6ec-96fa97e19efc",
   "metadata": {},
   "outputs": [
    {
     "name": "stdout",
     "output_type": "stream",
     "text": [
      "K value for the maximum accuracy is 97\n",
      "The accuracy = 28.827751196172247 %\n"
     ]
    }
   ],
   "source": [
    "optimal_k = k_values[accuracy_values.index(max(accuracy_values))]\n",
    "print(\"K value for the maximum accuracy is\", optimal_k)\n",
    "print(\"The accuracy =\", max(accuracy_values),\"%\")"
   ]
  },
  {
   "cell_type": "markdown",
   "id": "53e41b19",
   "metadata": {},
   "source": [
    "# 5 fold CrossValidation for parameter tuning"
   ]
  },
  {
   "cell_type": "code",
   "execution_count": 42,
   "id": "0d26004d-aa62-466d-90ff-69cb2f1ca049",
   "metadata": {},
   "outputs": [
    {
     "name": "stdout",
     "output_type": "stream",
     "text": [
      "[19.910179640718564, 20.41916167664671, 20.508982035928142, 20.23952095808383, 20.928143712574848, 21.736526946107784, 22.27544910179641, 22.12574850299401, 22.48502994011976, 23.263473053892216, 23.682634730538922, 24.31137724550898, 23.922155688622755, 24.88023952095808, 24.011976047904188, 25.419161676646713, 24.67065868263473, 24.97005988023952, 25.17964071856288, 25.05988023952096, 24.91017964071856, 25.329341317365273, 25.089820359281433, 25.419161676646706, 25.508982035928142, 24.64071856287425, 25.05988023952096, 25.35928143712575, 24.910179640718564, 24.880239520958085, 25.05988023952096, 25.02994011976048, 25.329341317365266, 25.089820359281433, 25.05988023952096, 25.149700598802394, 25.44910179640719, 25.7185628742515, 25.5688622754491, 25.508982035928145, 25.149700598802394, 25.419161676646706, 25.389221556886234, 25.479041916167667, 25.089820359281433, 25.239520958083826, 25.329341317365266, 25.179640718562872, 25.089820359281433, 25.05988023952096, 25.359281437125752, 25.329341317365266, 24.97005988023952, 25.05988023952096, 25.26946107784431, 25.38922155688622, 25.53892215568862, 25.74850299401198, 25.74850299401198, 25.479041916167667, 25.598802395209585, 25.808383233532933, 26.137724550898206, 25.958083832335333, 25.83832335329341, 25.928143712574848, 25.7185628742515, 26.22754491017964, 25.92814371257485, 25.7185628742515, 26.017964071856287, 25.7185628742515, 25.808383233532933, 26.047904191616766, 26.1377245508982, 25.868263473053894, 25.778443113772454, 25.7185628742515, 25.718562874251493, 25.778443113772454, 25.718562874251493, 25.5688622754491, 25.538922155688624, 25.7185628742515, 25.7185628742515, 25.83832335329341, 25.928143712574848, 25.808383233532933, 25.53892215568862, 25.718562874251493, 25.119760479041915, 25.329341317365273, 25.479041916167667, 25.299401197604794, 25.389221556886227, 25.119760479041915, 25.089820359281433, 25.05988023952096, 25.149700598802394, 25.02994011976048, 25.179640718562872, 25.35928143712575, 25.209580838323355, 25.35928143712575, 25.299401197604794, 25.209580838323355, 25.1497005988024, 25.0, 25.05988023952096, 25.000000000000007, 24.730538922155688, 24.97005988023952, 24.940119760479043, 25.149700598802394, 24.97005988023952, 25.269461077844312, 25.568862275449106, 25.38922155688622, 25.419161676646713, 25.269461077844312, 25.479041916167667, 25.7185628742515, 25.65868263473054, 25.53892215568862, 25.568862275449106, 25.44910179640719, 25.35928143712575, 25.59880239520958, 25.7185628742515, 25.898203592814372, 25.508982035928145, 25.53892215568862, 25.538922155688624, 25.239520958083833, 25.479041916167667, 25.35928143712575, 25.44910179640719, 25.74850299401198, 25.5688622754491, 25.419161676646713, 25.44910179640718, 25.65868263473054, 25.748502994011975, 25.778443113772454, 25.808383233532933, 25.568862275449096, 25.62874251497006, 25.568862275449106, 25.778443113772454, 25.74850299401198, 25.68862275449102, 25.658682634730535, 25.898203592814372, 26.107784431137727, 26.047904191616766, 25.958083832335333, 26.077844311377245, 26.317365269461078, 26.017964071856287, 26.10778443113773, 26.047904191616766, 25.508982035928142, 25.389221556886227, 25.62874251497006, 25.62874251497006, 25.53892215568862, 25.62874251497006, 25.958083832335326, 25.74850299401198, 25.83832335329341, 25.59880239520958, 25.419161676646706, 25.419161676646706, 25.299401197604794, 25.299401197604787, 25.239520958083826, 25.419161676646706, 25.5688622754491, 25.508982035928142, 25.62874251497006, 25.35928143712575, 25.35928143712575, 25.209580838323355, 25.149700598802394, 25.05988023952096, 25.239520958083833, 25.299401197604794, 25.239520958083833, 25.239520958083833, 25.17964071856288, 25.269461077844312, 25.209580838323355, 25.209580838323355, 25.35928143712575, 25.329341317365266, 25.538922155688624, 25.179640718562872, 25.179640718562872, 25.119760479041915]\n"
     ]
    }
   ],
   "source": [
    "k_values = [n for n in range(1,200)]\n",
    "accuracy = []\n",
    "variance = []\n",
    "\n",
    "for k in k_values:\n",
    "    knn = KNeighborsClassifier(n_neighbors = k)\n",
    "    scores = cross_val_score(knn, x_train, y_train, cv=5, scoring = 'accuracy')\n",
    "    accuracy.append(scores.mean()*100)\n",
    "    variance.append(scores.std())\n",
    "print(accuracy)"
   ]
  },
  {
   "cell_type": "markdown",
   "id": "49f2670a",
   "metadata": {},
   "source": [
    "Plotting  Mean Validation Accuracy vs K curve"
   ]
  },
  {
   "cell_type": "code",
   "execution_count": 43,
   "id": "4c258d42-dcd9-4dfb-923d-062c100134cf",
   "metadata": {},
   "outputs": [
    {
     "data": {
      "image/png": "[encoded data removed]",
      "text/plain": [
       "<Figure size 640x480 with 1 Axes>"
      ]
     },
     "metadata": {},
     "output_type": "display_data"
    }
   ],
   "source": [
    "plt.plot(k_values, accuracy)\n",
    "plt.xlabel('K')\n",
    "plt.ylabel(' Mean Validation Accuracy')\n",
    "plt.title(' Mean Validation Accuracy vs K-values')\n",
    "plt.show()"
   ]
  },
  {
   "cell_type": "markdown",
   "id": "fab888b0",
   "metadata": {},
   "source": [
    "From the plots, best K value =158, fit model on training set and predict on test set"
   ]
  },
  {
   "cell_type": "code",
   "execution_count": 44,
   "id": "4f64f7b6-509f-4658-aa35-76e228082ef9",
   "metadata": {},
   "outputs": [
    {
     "name": "stdout",
     "output_type": "stream",
     "text": [
      "The promising value of K = 158\n"
     ]
    }
   ],
   "source": [
    "tuned_k = accuracy.index(max(accuracy))+1\n",
    "print(\"The promising value of K =\",tuned_k)"
   ]
  },
  {
   "cell_type": "markdown",
   "id": "7b7ed4bf",
   "metadata": {},
   "source": [
    "Plotting Variance vs K curve"
   ]
  },
  {
   "cell_type": "code",
   "execution_count": 45,
   "id": "b6c42b4e-cc74-49a5-9be5-ef6bc7d53623",
   "metadata": {
    "scrolled": true
   },
   "outputs": [
    {
     "data": {
      "image/png": "[encoded data removed]",
      "text/plain": [
       "<Figure size 640x480 with 1 Axes>"
      ]
     },
     "metadata": {},
     "output_type": "display_data"
    }
   ],
   "source": [
    "plt.plot(k_values, variance)\n",
    "plt.xlabel('K Values')\n",
    "plt.ylabel('variance')\n",
    "plt.title(\"Variance vs K values\")\n",
    "plt.show()"
   ]
  },
  {
   "cell_type": "markdown",
   "id": "e17af84a",
   "metadata": {},
   "source": [
    "Retraining KNN using promising value of K"
   ]
  },
  {
   "cell_type": "code",
   "execution_count": 46,
   "id": "ce55adb9-36f5-4a14-b52e-b9d99c3e58b2",
   "metadata": {},
   "outputs": [
    {
     "name": "stdout",
     "output_type": "stream",
     "text": [
      "Final Accuracy = 28.22966507177033 %\n"
     ]
    }
   ],
   "source": [
    "final_knn = KNeighborsClassifier(n_neighbors = tuned_k)\n",
    "final_knn.fit(x_train,y_train)\n",
    "y_pred = final_knn.predict(x_test)\n",
    "print(\"Final Accuracy =\", accuracy_score(y_test, y_pred)*100, \"%\")"
   ]
  },
  {
   "cell_type": "markdown",
   "id": "c29469d5",
   "metadata": {},
   "source": [
    "# Improving on KNN:"
   ]
  },
  {
   "cell_type": "markdown",
   "id": "95a4e014",
   "metadata": {},
   "source": [
    "Weighted KNN"
   ]
  },
  {
   "cell_type": "markdown",
   "id": "c0f26d8f",
   "metadata": {},
   "source": [
    "p=1 for Manhattan\n",
    "\n",
    "p=2 for Euclidian"
   ]
  },
  {
   "cell_type": "markdown",
   "id": "8e4bdb82",
   "metadata": {},
   "source": [
    "Distance-Manhattan"
   ]
  },
  {
   "cell_type": "code",
   "execution_count": 54,
   "id": "5a93886e",
   "metadata": {},
   "outputs": [
    {
     "name": "stdout",
     "output_type": "stream",
     "text": [
      "Accuracy = 28.708133971291865 %\n"
     ]
    }
   ],
   "source": [
    "knn = KNeighborsClassifier(n_neighbors = tuned_k, weights = 'distance', p=1, metric = 'minkowski')\n",
    "knn.fit(x_train, y_train)\n",
    "pred = knn.predict(x_test)\n",
    "accuracy = accuracy_score(pred, y_test)*100\n",
    "print(\"Accuracy =\", accuracy, \"%\")"
   ]
  },
  {
   "cell_type": "markdown",
   "id": "214b2bc7",
   "metadata": {},
   "source": [
    "Distance-Euclidean"
   ]
  },
  {
   "cell_type": "code",
   "execution_count": 55,
   "id": "0e1dfe10",
   "metadata": {},
   "outputs": [
    {
     "name": "stdout",
     "output_type": "stream",
     "text": [
      "Accuracy = 28.11004784688995 %\n"
     ]
    }
   ],
   "source": [
    "knn = KNeighborsClassifier(n_neighbors = tuned_k, weights = 'distance', p=2, metric = 'minkowski')\n",
    "knn.fit(x_train, y_train)\n",
    "pred = knn.predict(x_test)\n",
    "accuracy = accuracy_score(pred, y_test)*100\n",
    "print(\"Accuracy =\", accuracy, \"%\")"
   ]
  },
  {
   "cell_type": "markdown",
   "id": "763f653a",
   "metadata": {},
   "source": [
    "Experimenting with algorithm selection parameter with best k,weights and p selected\n",
    "\n",
    "Ball Tree"
   ]
  },
  {
   "cell_type": "code",
   "execution_count": 56,
   "id": "bb2199dc-40c7-4d8c-8def-9a1a1b0e25fa",
   "metadata": {},
   "outputs": [
    {
     "name": "stdout",
     "output_type": "stream",
     "text": [
      "Accuracy = 28.708133971291865 %\n"
     ]
    }
   ],
   "source": [
    "knn = KNeighborsClassifier(n_neighbors = tuned_k, weights = 'distance', p=1, algorithm='ball_tree')\n",
    "knn.fit(x_train, y_train)\n",
    "pred = knn.predict(x_test)\n",
    "accuracy = accuracy_score(pred, y_test)*100\n",
    "print(\"Accuracy =\", accuracy, \"%\")"
   ]
  },
  {
   "cell_type": "markdown",
   "id": "a1b28ebc",
   "metadata": {},
   "source": [
    "KD Tree"
   ]
  },
  {
   "cell_type": "code",
   "execution_count": 57,
   "id": "b05c6f7d-6011-4108-ab79-24b382f83344",
   "metadata": {},
   "outputs": [
    {
     "name": "stdout",
     "output_type": "stream",
     "text": [
      "Accuracy = 28.708133971291865 %\n"
     ]
    }
   ],
   "source": [
    "knn = KNeighborsClassifier(n_neighbors = tuned_k, weights = 'distance', p=1, metric = 'minkowski', algorithm='kd_tree')\n",
    "knn.fit(x_train, y_train)\n",
    "pred = knn.predict(x_test)\n",
    "accuracy = accuracy_score(pred, y_test)*100\n",
    "print(\"Accuracy =\", accuracy, \"%\")"
   ]
  },
  {
   "cell_type": "markdown",
   "id": "12f9bf6e",
   "metadata": {},
   "source": [
    "Brute"
   ]
  },
  {
   "cell_type": "code",
   "execution_count": 58,
   "id": "618745a3-5669-43a0-8a8e-87c7d08dc382",
   "metadata": {},
   "outputs": [
    {
     "name": "stdout",
     "output_type": "stream",
     "text": [
      "Accuracy = 28.708133971291865 %\n"
     ]
    }
   ],
   "source": [
    "knn = KNeighborsClassifier(n_neighbors = tuned_k, weights = 'distance', p=1, metric = 'minkowski', algorithm='brute')\n",
    "knn.fit(x_train, y_train)\n",
    "pred = knn.predict(x_test)\n",
    "accuracy = accuracy_score(pred, y_test)*100\n",
    "print(\"Accuracy =\", accuracy, \"%\")"
   ]
  }
 ],
 "metadata": {
  "kernelspec": {
   "display_name": "Python 3 (ipykernel)",
   "language": "python",
   "name": "python3"
  },
  "language_info": {
   "codemirror_mode": {
    "name": "ipython",
    "version": 3
   },
   "file_extension": ".py",
   "mimetype": "text/x-python",
   "name": "python",
   "nbconvert_exporter": "python",
   "pygments_lexer": "ipython3",
   "version": "3.9.13"
  }
 },
 "nbformat": 4,
 "nbformat_minor": 5
}
